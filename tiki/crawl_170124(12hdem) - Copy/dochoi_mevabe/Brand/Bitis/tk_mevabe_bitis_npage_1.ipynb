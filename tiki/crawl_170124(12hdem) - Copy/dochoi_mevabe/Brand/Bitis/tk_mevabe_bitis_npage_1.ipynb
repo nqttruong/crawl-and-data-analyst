{
 "cells": [
  {
   "cell_type": "code",
   "execution_count": 3,
   "id": "78e16a87",
   "metadata": {},
   "outputs": [],
   "source": [
    "import numpy as np\n",
    "from selenium import webdriver\n",
    "from time import sleep\n",
    "#from selenium.webdriver. common.keys import Keys\n",
    "import random\n",
    "#from selenium.webdriver import ActionChains\n",
    "#from webdriver_manager.chrome import ChromeDriverManager\n",
    "from selenium.webdriver.support.ui import WebDriverWait\n",
    "from selenium.webdriver.support import expected_conditions as EC\n",
    "from selenium.common.exceptions import NoSuchElementException, ElementNotInteractableException\n",
    "from selenium.webdriver.common.by import By\n",
    "import pandas as pd\n",
    "from selenium.webdriver.chrome.options import Options\n",
    "from selenium.common.exceptions import NoSuchElementException\n",
    "\n",
    "# Declare browser\n",
    "\n",
    "# ======================================  GET link/title\n",
    "chrome_options = Options()\n",
    "\n",
    "\n",
    "# Khởi tạo trình duyệt với các tùy chọn\n",
    "driver = webdriver.Chrome(options=chrome_options)\n",
    "\n",
    "\n",
    "# https://tiki.vn/dien-thoai-smartphone/c1795?brand=18802&page=2\n"
   ]
  },
  {
   "cell_type": "code",
   "execution_count": 4,
   "id": "40393627",
   "metadata": {},
   "outputs": [
    {
     "ename": "KeyboardInterrupt",
     "evalue": "",
     "output_type": "error",
     "traceback": [
      "\u001b[1;31m---------------------------------------------------------------------------\u001b[0m",
      "\u001b[1;31mKeyboardInterrupt\u001b[0m                         Traceback (most recent call last)",
      "Cell \u001b[1;32mIn[4], line 3\u001b[0m\n\u001b[0;32m      1\u001b[0m \u001b[38;5;28;01mfor\u001b[39;00m i \u001b[38;5;129;01min\u001b[39;00m \u001b[38;5;28mrange\u001b[39m(\u001b[38;5;241m1\u001b[39m, \u001b[38;5;241m51\u001b[39m):\n\u001b[0;32m      2\u001b[0m     driver\u001b[38;5;241m.\u001b[39mget(\u001b[38;5;124m\"\u001b[39m\u001b[38;5;124mhttps://tiki.vn/do-choi-me-be/c2549?brand=240925&page=\u001b[39m\u001b[38;5;132;01m{}\u001b[39;00m\u001b[38;5;124m\"\u001b[39m\u001b[38;5;241m.\u001b[39mformat(i))                                                                                            \n\u001b[1;32m----> 3\u001b[0m     \u001b[43msleep\u001b[49m\u001b[43m(\u001b[49m\u001b[43mrandom\u001b[49m\u001b[38;5;241;43m.\u001b[39;49m\u001b[43mrandint\u001b[49m\u001b[43m(\u001b[49m\u001b[38;5;241;43m5\u001b[39;49m\u001b[43m,\u001b[49m\u001b[38;5;241;43m10\u001b[39;49m\u001b[43m)\u001b[49m\u001b[43m)\u001b[49m\n\u001b[0;32m      5\u001b[0m     elems \u001b[38;5;241m=\u001b[39m driver\u001b[38;5;241m.\u001b[39mfind_elements(By\u001b[38;5;241m.\u001b[39mCSS_SELECTOR, \u001b[38;5;124m\"\u001b[39m\u001b[38;5;124m.name\u001b[39m\u001b[38;5;124m\"\u001b[39m)\n\u001b[0;32m      6\u001b[0m     title \u001b[38;5;241m=\u001b[39m [elem\u001b[38;5;241m.\u001b[39mtext \u001b[38;5;28;01mfor\u001b[39;00m elem \u001b[38;5;129;01min\u001b[39;00m elems]\n",
      "\u001b[1;31mKeyboardInterrupt\u001b[0m: "
     ]
    }
   ],
   "source": [
    "for i in range(1, 10):\n",
    "    driver.get(\"https://tiki.vn/do-choi-me-be/c2549?brand=240925&page={}\".format(i))                                                                                            \n",
    "    sleep(random.randint(5,10))\n",
    "\n",
    "    elems = driver.find_elements(By.CSS_SELECTOR, \".name\")\n",
    "    title = [elem.text for elem in elems]\n",
    "\n",
    "    elem_link = driver.find_elements(By.CSS_SELECTOR, \".style__ProductLink-sc-7xd6qw-2.fHwskZ.product-item\")\n",
    "    links = [elem.get_attribute('href') for elem in elem_link]\n",
    "\n",
    "    # ======================================  GET price\n",
    "    elems_price = driver.find_elements (By.CSS_SELECTOR, \".price-discount__price\")\n",
    "    price = [elem_price.text for elem_price in elems_price]\n",
    "\n",
    "\n",
    "    df1 = pd.DataFrame(list(zip(title, price, links)), columns =['title', 'price', 'link_item'])\n",
    "    df1[\"index\"]=np.arange(1,len(df1) + 1)\n",
    "\n",
    "\n",
    "\n",
    "    # ======================================  GET discount\n",
    "    elems_discount = driver.find_elements(By.CSS_SELECTOR, \".price-discount__discount\")\n",
    "    discount = [elem_discount.text if elem_discount.text.strip() else float('nan') for elem_discount in elems_discount]\n",
    "\n",
    "\n",
    "    if len(discount) == len(df1):\n",
    "        df1[\"discount\"] = discount\n",
    "    else:\n",
    "        diff_length = len(df1) - len(discount)\n",
    "        df1[\"discount\"] = discount + [float('nan')] * diff_length if diff_length > 0 else [float('nan')] * len(df1)\n",
    "\n",
    "\n",
    "\n",
    "    elems_sale = driver.find_elements(By.CSS_SELECTOR, \".style__StyledRatingList-sc-7xd6qw-6.eMNcac\")\n",
    "    sale = [elem.text for elem in elems_sale]\n",
    "\n",
    "    if len(sale) == len(df1):\n",
    "        df1[\"sales\"] = sale\n",
    "    else:\n",
    "        diff_length = len(df1) - len(sale)\n",
    "        df1[\"sales\"] = sale + [float('nan')] * diff_length if diff_length > 0 else sale[:len(df1)]\n",
    "\n",
    "#     df1[\"brand\"] = \"Mamamy\"\n",
    "    df1[\"brand\"] = \"bitis\"\n",
    "    df1.to_csv('tk_bitis_t{}.csv'.format(i), index=False, encoding='utf-8')\n",
    "\n",
    "\n"
   ]
  },
  {
   "cell_type": "code",
   "execution_count": null,
   "id": "5c867f94",
   "metadata": {},
   "outputs": [],
   "source": []
  },
  {
   "cell_type": "code",
   "execution_count": null,
   "id": "765b3de2",
   "metadata": {},
   "outputs": [],
   "source": []
  },
  {
   "cell_type": "code",
   "execution_count": null,
   "id": "f08f4c41",
   "metadata": {},
   "outputs": [],
   "source": []
  }
 ],
 "metadata": {
  "kernelspec": {
   "display_name": "Python 3 (ipykernel)",
   "language": "python",
   "name": "python3"
  },
  "language_info": {
   "codemirror_mode": {
    "name": "ipython",
    "version": 3
   },
   "file_extension": ".py",
   "mimetype": "text/x-python",
   "name": "python",
   "nbconvert_exporter": "python",
   "pygments_lexer": "ipython3",
   "version": "3.9.12"
  }
 },
 "nbformat": 4,
 "nbformat_minor": 5
}
