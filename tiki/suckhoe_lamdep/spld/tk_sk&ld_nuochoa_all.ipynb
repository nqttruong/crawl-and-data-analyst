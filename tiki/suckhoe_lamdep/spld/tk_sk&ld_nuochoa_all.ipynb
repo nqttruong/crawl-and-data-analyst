{
 "cells": [
  {
   "cell_type": "code",
   "execution_count": 1,
   "id": "81424b8d",
   "metadata": {},
   "outputs": [],
   "source": [
    "import pandas as pd\n",
    "import os \n",
    "import numpy as np"
   ]
  },
  {
   "cell_type": "code",
   "execution_count": 2,
   "id": "de657aca",
   "metadata": {},
   "outputs": [
    {
     "data": {
      "text/plain": [
       "['.ipynb_checkpoints',\n",
       " 'tk_sk&ld_nuochoa_all.ipynb',\n",
       " 'tk_sk&ld_spld.csv',\n",
       " 'tk_sk&ld_spld.ipynb']"
      ]
     },
     "execution_count": 2,
     "metadata": {},
     "output_type": "execute_result"
    }
   ],
   "source": [
    "path = r\"D:\\CNTT\\py_for_da\\crawl_data_analyst\\tiki\\suckhoe_lamdep\\spld\"\n",
    "os.listdir(path)\n"
   ]
  },
  {
   "cell_type": "code",
   "execution_count": 3,
   "id": "fd3d4727",
   "metadata": {},
   "outputs": [],
   "source": [
    "frames = []\n",
    "for file in os.listdir(path):\n",
    "    if file.endswith('.csv'):\n",
    "        filepath = path + '\\\\' + file\n",
    "        df1 = pd.read_csv(filepath)\n",
    "        frames.append(df1)\n",
    "        result = pd.concat(frames)\n",
    "\n",
    "df_all = result\n",
    "df_all.to_csv(\"tk_sk&ld_spld_all.csv\", index=\"False\")"
   ]
  },
  {
   "cell_type": "code",
   "execution_count": 4,
   "id": "a83c1f4b",
   "metadata": {},
   "outputs": [
    {
     "data": {
      "text/html": [
       "<div>\n",
       "<style scoped>\n",
       "    .dataframe tbody tr th:only-of-type {\n",
       "        vertical-align: middle;\n",
       "    }\n",
       "\n",
       "    .dataframe tbody tr th {\n",
       "        vertical-align: top;\n",
       "    }\n",
       "\n",
       "    .dataframe thead th {\n",
       "        text-align: right;\n",
       "    }\n",
       "</style>\n",
       "<table border=\"1\" class=\"dataframe\">\n",
       "  <thead>\n",
       "    <tr style=\"text-align: right;\">\n",
       "      <th></th>\n",
       "      <th>title</th>\n",
       "      <th>price</th>\n",
       "      <th>link_item</th>\n",
       "      <th>index</th>\n",
       "      <th>discount</th>\n",
       "      <th>sales</th>\n",
       "    </tr>\n",
       "  </thead>\n",
       "  <tbody>\n",
       "    <tr>\n",
       "      <th>0</th>\n",
       "      <td>Bộ Sản Phẩm Serum Nhau Thai Cừu Lanopearl LB42...</td>\n",
       "      <td>1.159.000₫</td>\n",
       "      <td>https://tka.tiki.vn/pixel/pixel?data=ocZNHLbt4...</td>\n",
       "      <td>1</td>\n",
       "      <td>-19%</td>\n",
       "      <td>Đã bán 4</td>\n",
       "    </tr>\n",
       "    <tr>\n",
       "      <th>1</th>\n",
       "      <td>Xịt Khoáng La Roche Posay Serozinc 150ml tặng ...</td>\n",
       "      <td>340.000₫</td>\n",
       "      <td>https://tiki.vn/xit-khoang-la-roche-posay-sero...</td>\n",
       "      <td>2</td>\n",
       "      <td>-40%</td>\n",
       "      <td>Đã bán 20</td>\n",
       "    </tr>\n",
       "    <tr>\n",
       "      <th>2</th>\n",
       "      <td>Bộ 3 Sản Phẩm Dưỡng Da Ohui Whoo Mini Hoàn Lưu...</td>\n",
       "      <td>660.000₫</td>\n",
       "      <td>https://tiki.vn/bo-3-san-pham-duong-da-ohui-wh...</td>\n",
       "      <td>3</td>\n",
       "      <td>-19%</td>\n",
       "      <td>Đã bán 13</td>\n",
       "    </tr>\n",
       "    <tr>\n",
       "      <th>3</th>\n",
       "      <td>Bộ Sản Phẩm Serum Nhau Thai Cừu Lanopearl LB42...</td>\n",
       "      <td>1.159.000₫</td>\n",
       "      <td>https://tiki.vn/bo-san-pham-serum-nhau-thai-cu...</td>\n",
       "      <td>4</td>\n",
       "      <td>NaN</td>\n",
       "      <td>Đã bán 4</td>\n",
       "    </tr>\n",
       "    <tr>\n",
       "      <th>4</th>\n",
       "      <td>Combo Avene: Gel Rửa Mặt Dành Cho Da Nhờn Mụn ...</td>\n",
       "      <td>783.000₫</td>\n",
       "      <td>https://tiki.vn/combo-avene-gel-rua-mat-danh-c...</td>\n",
       "      <td>5</td>\n",
       "      <td>NaN</td>\n",
       "      <td>NaN</td>\n",
       "    </tr>\n",
       "  </tbody>\n",
       "</table>\n",
       "</div>"
      ],
      "text/plain": [
       "                                               title       price  \\\n",
       "0  Bộ Sản Phẩm Serum Nhau Thai Cừu Lanopearl LB42...  1.159.000₫   \n",
       "1  Xịt Khoáng La Roche Posay Serozinc 150ml tặng ...    340.000₫   \n",
       "2  Bộ 3 Sản Phẩm Dưỡng Da Ohui Whoo Mini Hoàn Lưu...    660.000₫   \n",
       "3  Bộ Sản Phẩm Serum Nhau Thai Cừu Lanopearl LB42...  1.159.000₫   \n",
       "4  Combo Avene: Gel Rửa Mặt Dành Cho Da Nhờn Mụn ...    783.000₫   \n",
       "\n",
       "                                           link_item  index discount  \\\n",
       "0  https://tka.tiki.vn/pixel/pixel?data=ocZNHLbt4...      1     -19%   \n",
       "1  https://tiki.vn/xit-khoang-la-roche-posay-sero...      2     -40%   \n",
       "2  https://tiki.vn/bo-3-san-pham-duong-da-ohui-wh...      3     -19%   \n",
       "3  https://tiki.vn/bo-san-pham-serum-nhau-thai-cu...      4      NaN   \n",
       "4  https://tiki.vn/combo-avene-gel-rua-mat-danh-c...      5      NaN   \n",
       "\n",
       "       sales  \n",
       "0   Đã bán 4  \n",
       "1  Đã bán 20  \n",
       "2  Đã bán 13  \n",
       "3   Đã bán 4  \n",
       "4        NaN  "
      ]
     },
     "execution_count": 4,
     "metadata": {},
     "output_type": "execute_result"
    }
   ],
   "source": [
    "df_all"
   ]
  },
  {
   "cell_type": "markdown",
   "id": "8813d52b",
   "metadata": {},
   "source": [
    "1. Xử lý dữ liệu"
   ]
  },
  {
   "cell_type": "code",
   "execution_count": 5,
   "id": "280e6307",
   "metadata": {},
   "outputs": [],
   "source": [
    "df_all.dropna(subset=['price'], inplace=True)"
   ]
  },
  {
   "cell_type": "code",
   "execution_count": 5,
   "id": "ce80d0fc",
   "metadata": {},
   "outputs": [],
   "source": [
    "df_all = df_all.drop('index', axis=1)\n"
   ]
  },
  {
   "cell_type": "code",
   "execution_count": 7,
   "id": "535e29f9",
   "metadata": {},
   "outputs": [],
   "source": [
    "df_all = df_all.reset_index(drop=True)"
   ]
  },
  {
   "cell_type": "code",
   "execution_count": 6,
   "id": "b04bad89",
   "metadata": {},
   "outputs": [
    {
     "data": {
      "text/html": [
       "<div>\n",
       "<style scoped>\n",
       "    .dataframe tbody tr th:only-of-type {\n",
       "        vertical-align: middle;\n",
       "    }\n",
       "\n",
       "    .dataframe tbody tr th {\n",
       "        vertical-align: top;\n",
       "    }\n",
       "\n",
       "    .dataframe thead th {\n",
       "        text-align: right;\n",
       "    }\n",
       "</style>\n",
       "<table border=\"1\" class=\"dataframe\">\n",
       "  <thead>\n",
       "    <tr style=\"text-align: right;\">\n",
       "      <th></th>\n",
       "      <th>title</th>\n",
       "      <th>price</th>\n",
       "      <th>link_item</th>\n",
       "      <th>discount</th>\n",
       "      <th>sales</th>\n",
       "    </tr>\n",
       "  </thead>\n",
       "  <tbody>\n",
       "    <tr>\n",
       "      <th>0</th>\n",
       "      <td>Bộ Sản Phẩm Serum Nhau Thai Cừu Lanopearl LB42...</td>\n",
       "      <td>1.159.000₫</td>\n",
       "      <td>https://tka.tiki.vn/pixel/pixel?data=ocZNHLbt4...</td>\n",
       "      <td>-19%</td>\n",
       "      <td>Đã bán 4</td>\n",
       "    </tr>\n",
       "    <tr>\n",
       "      <th>1</th>\n",
       "      <td>Xịt Khoáng La Roche Posay Serozinc 150ml tặng ...</td>\n",
       "      <td>340.000₫</td>\n",
       "      <td>https://tiki.vn/xit-khoang-la-roche-posay-sero...</td>\n",
       "      <td>-40%</td>\n",
       "      <td>Đã bán 20</td>\n",
       "    </tr>\n",
       "    <tr>\n",
       "      <th>2</th>\n",
       "      <td>Bộ 3 Sản Phẩm Dưỡng Da Ohui Whoo Mini Hoàn Lưu...</td>\n",
       "      <td>660.000₫</td>\n",
       "      <td>https://tiki.vn/bo-3-san-pham-duong-da-ohui-wh...</td>\n",
       "      <td>-19%</td>\n",
       "      <td>Đã bán 13</td>\n",
       "    </tr>\n",
       "    <tr>\n",
       "      <th>3</th>\n",
       "      <td>Bộ Sản Phẩm Serum Nhau Thai Cừu Lanopearl LB42...</td>\n",
       "      <td>1.159.000₫</td>\n",
       "      <td>https://tiki.vn/bo-san-pham-serum-nhau-thai-cu...</td>\n",
       "      <td>NaN</td>\n",
       "      <td>Đã bán 4</td>\n",
       "    </tr>\n",
       "    <tr>\n",
       "      <th>4</th>\n",
       "      <td>Combo Avene: Gel Rửa Mặt Dành Cho Da Nhờn Mụn ...</td>\n",
       "      <td>783.000₫</td>\n",
       "      <td>https://tiki.vn/combo-avene-gel-rua-mat-danh-c...</td>\n",
       "      <td>NaN</td>\n",
       "      <td>NaN</td>\n",
       "    </tr>\n",
       "  </tbody>\n",
       "</table>\n",
       "</div>"
      ],
      "text/plain": [
       "                                               title       price  \\\n",
       "0  Bộ Sản Phẩm Serum Nhau Thai Cừu Lanopearl LB42...  1.159.000₫   \n",
       "1  Xịt Khoáng La Roche Posay Serozinc 150ml tặng ...    340.000₫   \n",
       "2  Bộ 3 Sản Phẩm Dưỡng Da Ohui Whoo Mini Hoàn Lưu...    660.000₫   \n",
       "3  Bộ Sản Phẩm Serum Nhau Thai Cừu Lanopearl LB42...  1.159.000₫   \n",
       "4  Combo Avene: Gel Rửa Mặt Dành Cho Da Nhờn Mụn ...    783.000₫   \n",
       "\n",
       "                                           link_item discount      sales  \n",
       "0  https://tka.tiki.vn/pixel/pixel?data=ocZNHLbt4...     -19%   Đã bán 4  \n",
       "1  https://tiki.vn/xit-khoang-la-roche-posay-sero...     -40%  Đã bán 20  \n",
       "2  https://tiki.vn/bo-3-san-pham-duong-da-ohui-wh...     -19%  Đã bán 13  \n",
       "3  https://tiki.vn/bo-san-pham-serum-nhau-thai-cu...      NaN   Đã bán 4  \n",
       "4  https://tiki.vn/combo-avene-gel-rua-mat-danh-c...      NaN        NaN  "
      ]
     },
     "execution_count": 6,
     "metadata": {},
     "output_type": "execute_result"
    }
   ],
   "source": [
    "df_all"
   ]
  },
  {
   "cell_type": "code",
   "execution_count": 7,
   "id": "47e48b45",
   "metadata": {},
   "outputs": [
    {
     "name": "stdout",
     "output_type": "stream",
     "text": [
      "0    1159000\n",
      "1     340000\n",
      "2     660000\n",
      "3    1159000\n",
      "4     783000\n",
      "Name: price, dtype: int32\n"
     ]
    }
   ],
   "source": [
    "df_all[\"price\"] = df_all[\"price\"].replace('[\\₫,]', '', regex=True).replace('\\.', '', regex=True).astype(int)\n",
    "print(df_all[\"price\"])"
   ]
  },
  {
   "cell_type": "code",
   "execution_count": 8,
   "id": "0106907d",
   "metadata": {},
   "outputs": [],
   "source": [
    "def convert_to_number(value):\n",
    "    if isinstance(value, str):\n",
    "        if 'k+' in value:\n",
    "            return float(value.replace('k+', '')) * 1000\n",
    "        elif 'k' in value:\n",
    "            return float(value.replace('k', '')) * 1000\n",
    "        else:\n",
    "            return float(value) if value else None\n",
    "    else:\n",
    "        return value"
   ]
  },
  {
   "cell_type": "code",
   "execution_count": 9,
   "id": "e4aced8f",
   "metadata": {},
   "outputs": [
    {
     "data": {
      "text/plain": [
       "0     4.0\n",
       "1    20.0\n",
       "2    13.0\n",
       "3     4.0\n",
       "4     NaN\n",
       "Name: sales, dtype: float64"
      ]
     },
     "execution_count": 9,
     "metadata": {},
     "output_type": "execute_result"
    }
   ],
   "source": [
    "# Áp dụng hàm convert_to_number cho cột 'Gia'\n",
    "df_all[\"sales\"] = df_all[\"sales\"].apply(lambda x: np.nan if pd.isna(x) else x.split('Đã bán')[1].strip())\n",
    "df_all[\"sales\"] = df_all[\"sales\"].apply(convert_to_number)\n",
    "df_all[\"sales\"]\n"
   ]
  },
  {
   "cell_type": "code",
   "execution_count": 10,
   "id": "b37df319",
   "metadata": {},
   "outputs": [
    {
     "data": {
      "text/plain": [
       "0    4636000.0\n",
       "1    6800000.0\n",
       "2    8580000.0\n",
       "3    4636000.0\n",
       "4          NaN\n",
       "Name: revenue, dtype: float64"
      ]
     },
     "execution_count": 10,
     "metadata": {},
     "output_type": "execute_result"
    }
   ],
   "source": [
    "df_all[\"revenue\"] = df_all[\"price\"] * df_all[\"sales\"]\n",
    "df_all[\"revenue\"]"
   ]
  },
  {
   "cell_type": "code",
   "execution_count": 11,
   "id": "24d45ee3",
   "metadata": {},
   "outputs": [],
   "source": [
    "total = df_all[\"revenue\"].sum()"
   ]
  },
  {
   "cell_type": "code",
   "execution_count": 12,
   "id": "01d9dd04",
   "metadata": {},
   "outputs": [
    {
     "name": "stdout",
     "output_type": "stream",
     "text": [
      "Tổng doanh số sản phẩm làm đẹp:  24652000.0\n"
     ]
    }
   ],
   "source": [
    "print(\"Tổng doanh số sản phẩm làm đẹp: \", total)\n",
    "\n"
   ]
  },
  {
   "cell_type": "code",
   "execution_count": 13,
   "id": "faec16e1",
   "metadata": {},
   "outputs": [
    {
     "data": {
      "text/html": [
       "<div>\n",
       "<style scoped>\n",
       "    .dataframe tbody tr th:only-of-type {\n",
       "        vertical-align: middle;\n",
       "    }\n",
       "\n",
       "    .dataframe tbody tr th {\n",
       "        vertical-align: top;\n",
       "    }\n",
       "\n",
       "    .dataframe thead th {\n",
       "        text-align: right;\n",
       "    }\n",
       "</style>\n",
       "<table border=\"1\" class=\"dataframe\">\n",
       "  <thead>\n",
       "    <tr style=\"text-align: right;\">\n",
       "      <th></th>\n",
       "      <th>title</th>\n",
       "      <th>price</th>\n",
       "      <th>link_item</th>\n",
       "      <th>discount</th>\n",
       "      <th>sales</th>\n",
       "      <th>revenue</th>\n",
       "    </tr>\n",
       "  </thead>\n",
       "  <tbody>\n",
       "    <tr>\n",
       "      <th>0</th>\n",
       "      <td>Bộ Sản Phẩm Serum Nhau Thai Cừu Lanopearl LB42...</td>\n",
       "      <td>1159000</td>\n",
       "      <td>https://tka.tiki.vn/pixel/pixel?data=ocZNHLbt4...</td>\n",
       "      <td>-19%</td>\n",
       "      <td>4.0</td>\n",
       "      <td>4636000.0</td>\n",
       "    </tr>\n",
       "    <tr>\n",
       "      <th>1</th>\n",
       "      <td>Xịt Khoáng La Roche Posay Serozinc 150ml tặng ...</td>\n",
       "      <td>340000</td>\n",
       "      <td>https://tiki.vn/xit-khoang-la-roche-posay-sero...</td>\n",
       "      <td>-40%</td>\n",
       "      <td>20.0</td>\n",
       "      <td>6800000.0</td>\n",
       "    </tr>\n",
       "    <tr>\n",
       "      <th>2</th>\n",
       "      <td>Bộ 3 Sản Phẩm Dưỡng Da Ohui Whoo Mini Hoàn Lưu...</td>\n",
       "      <td>660000</td>\n",
       "      <td>https://tiki.vn/bo-3-san-pham-duong-da-ohui-wh...</td>\n",
       "      <td>-19%</td>\n",
       "      <td>13.0</td>\n",
       "      <td>8580000.0</td>\n",
       "    </tr>\n",
       "    <tr>\n",
       "      <th>3</th>\n",
       "      <td>Bộ Sản Phẩm Serum Nhau Thai Cừu Lanopearl LB42...</td>\n",
       "      <td>1159000</td>\n",
       "      <td>https://tiki.vn/bo-san-pham-serum-nhau-thai-cu...</td>\n",
       "      <td>NaN</td>\n",
       "      <td>4.0</td>\n",
       "      <td>4636000.0</td>\n",
       "    </tr>\n",
       "    <tr>\n",
       "      <th>4</th>\n",
       "      <td>Combo Avene: Gel Rửa Mặt Dành Cho Da Nhờn Mụn ...</td>\n",
       "      <td>783000</td>\n",
       "      <td>https://tiki.vn/combo-avene-gel-rua-mat-danh-c...</td>\n",
       "      <td>NaN</td>\n",
       "      <td>NaN</td>\n",
       "      <td>NaN</td>\n",
       "    </tr>\n",
       "  </tbody>\n",
       "</table>\n",
       "</div>"
      ],
      "text/plain": [
       "                                               title    price  \\\n",
       "0  Bộ Sản Phẩm Serum Nhau Thai Cừu Lanopearl LB42...  1159000   \n",
       "1  Xịt Khoáng La Roche Posay Serozinc 150ml tặng ...   340000   \n",
       "2  Bộ 3 Sản Phẩm Dưỡng Da Ohui Whoo Mini Hoàn Lưu...   660000   \n",
       "3  Bộ Sản Phẩm Serum Nhau Thai Cừu Lanopearl LB42...  1159000   \n",
       "4  Combo Avene: Gel Rửa Mặt Dành Cho Da Nhờn Mụn ...   783000   \n",
       "\n",
       "                                           link_item discount  sales  \\\n",
       "0  https://tka.tiki.vn/pixel/pixel?data=ocZNHLbt4...     -19%    4.0   \n",
       "1  https://tiki.vn/xit-khoang-la-roche-posay-sero...     -40%   20.0   \n",
       "2  https://tiki.vn/bo-3-san-pham-duong-da-ohui-wh...     -19%   13.0   \n",
       "3  https://tiki.vn/bo-san-pham-serum-nhau-thai-cu...      NaN    4.0   \n",
       "4  https://tiki.vn/combo-avene-gel-rua-mat-danh-c...      NaN    NaN   \n",
       "\n",
       "     revenue  \n",
       "0  4636000.0  \n",
       "1  6800000.0  \n",
       "2  8580000.0  \n",
       "3  4636000.0  \n",
       "4        NaN  "
      ]
     },
     "execution_count": 13,
     "metadata": {},
     "output_type": "execute_result"
    }
   ],
   "source": [
    "df_all"
   ]
  },
  {
   "cell_type": "code",
   "execution_count": 14,
   "id": "9eb4f56b",
   "metadata": {},
   "outputs": [],
   "source": [
    "df_all.to_csv(\"tk_sk&ld_spld_all_ed.csv\")"
   ]
  }
 ],
 "metadata": {
  "kernelspec": {
   "display_name": "Python 3 (ipykernel)",
   "language": "python",
   "name": "python3"
  },
  "language_info": {
   "codemirror_mode": {
    "name": "ipython",
    "version": 3
   },
   "file_extension": ".py",
   "mimetype": "text/x-python",
   "name": "python",
   "nbconvert_exporter": "python",
   "pygments_lexer": "ipython3",
   "version": "3.9.13"
  }
 },
 "nbformat": 4,
 "nbformat_minor": 5
}
