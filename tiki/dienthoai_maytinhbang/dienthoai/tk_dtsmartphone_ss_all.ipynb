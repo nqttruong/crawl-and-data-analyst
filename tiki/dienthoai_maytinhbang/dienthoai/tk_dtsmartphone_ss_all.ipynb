{
 "cells": [
  {
   "cell_type": "code",
   "execution_count": 12,
   "id": "81424b8d",
   "metadata": {},
   "outputs": [],
   "source": [
    "import pandas as pd\n",
    "import os "
   ]
  },
  {
   "cell_type": "code",
   "execution_count": 13,
   "id": "de657aca",
   "metadata": {},
   "outputs": [
    {
     "data": {
      "text/plain": [
       "['tk_dtsmartphone_ss_t1.csv',\n",
       " 'tk_dtsmartphone_ss_t2.csv',\n",
       " 'tk_dtsmartphone_ss_t3.csv',\n",
       " 'tk_dtsmartphone_ss_t4.csv',\n",
       " 'tk_dtsmartphone_ss_t5.csv',\n",
       " 'tk_dtsmartphone_ss_t6.csv']"
      ]
     },
     "execution_count": 13,
     "metadata": {},
     "output_type": "execute_result"
    }
   ],
   "source": [
    "path = r\"D:\\CNTT\\py_for_da\\crawl_data_analyst\\tiki\\dienthoai_maytinhbang\\dienthoai\\samsung\"\n",
    "os.listdir(path)\n"
   ]
  },
  {
   "cell_type": "code",
   "execution_count": 14,
   "id": "fd3d4727",
   "metadata": {},
   "outputs": [],
   "source": [
    "frames = []\n",
    "for file in os.listdir(path):\n",
    "    if file.endswith('.csv'):\n",
    "        filepath = path + '\\\\' + file\n",
    "        df1 = pd.read_csv(filepath)\n",
    "        frames.append(df1)\n",
    "        result = pd.concat(frames)\n",
    "\n",
    "df_all = result\n",
    "df_all.to_csv(\"tk_dtsmartphone_ss_all.csv\", index=\"False\")"
   ]
  },
  {
   "cell_type": "code",
   "execution_count": null,
   "id": "85fe16e1",
   "metadata": {},
   "outputs": [],
   "source": []
  },
  {
   "cell_type": "code",
   "execution_count": null,
   "id": "ce80d0fc",
   "metadata": {},
   "outputs": [],
   "source": []
  },
  {
   "cell_type": "code",
   "execution_count": null,
   "id": "d6f18b31",
   "metadata": {},
   "outputs": [],
   "source": []
  },
  {
   "cell_type": "code",
   "execution_count": null,
   "id": "47e48b45",
   "metadata": {},
   "outputs": [],
   "source": []
  },
  {
   "cell_type": "code",
   "execution_count": null,
   "id": "0106907d",
   "metadata": {},
   "outputs": [],
   "source": []
  }
 ],
 "metadata": {
  "kernelspec": {
   "display_name": "Python 3 (ipykernel)",
   "language": "python",
   "name": "python3"
  },
  "language_info": {
   "codemirror_mode": {
    "name": "ipython",
    "version": 3
   },
   "file_extension": ".py",
   "mimetype": "text/x-python",
   "name": "python",
   "nbconvert_exporter": "python",
   "pygments_lexer": "ipython3",
   "version": "3.9.13"
  }
 },
 "nbformat": 4,
 "nbformat_minor": 5
}
