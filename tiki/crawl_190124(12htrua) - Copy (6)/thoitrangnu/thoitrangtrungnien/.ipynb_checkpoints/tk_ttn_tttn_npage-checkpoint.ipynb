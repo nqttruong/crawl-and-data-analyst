{
 "cells": [
  {
   "cell_type": "code",
   "execution_count": 1,
   "id": "78e16a87",
   "metadata": {},
   "outputs": [],
   "source": [
    "import numpy as np\n",
    "from selenium import webdriver\n",
    "from time import sleep\n",
    "#from selenium.webdriver. common.keys import Keys\n",
    "import random\n",
    "#from selenium.webdriver import ActionChains\n",
    "#from webdriver_manager.chrome import ChromeDriverManager\n",
    "from selenium.webdriver.support.ui import WebDriverWait\n",
    "from selenium.webdriver.support import expected_conditions as EC\n",
    "from selenium.common.exceptions import NoSuchElementException, ElementNotInteractableException\n",
    "from selenium.webdriver.common.by import By\n",
    "import pandas as pd\n",
    "from selenium.webdriver.chrome.options import Options\n",
    "from selenium.common.exceptions import NoSuchElementException\n",
    "\n",
    "# Declare browser\n",
    "\n",
    "# ======================================  GET link/title\n",
    "chrome_options = Options()\n",
    "\n",
    "\n",
    "# Khởi tạo trình duyệt với các tùy chọn\n",
    "driver = webdriver.Chrome(options=chrome_options)\n",
    "\n",
    "\n",
    "# https://tiki.vn/dien-thoai-smartphone/c1795?brand=18802&page=2\n"
   ]
  },
  {
   "cell_type": "code",
   "execution_count": null,
   "id": "40393627",
   "metadata": {},
   "outputs": [
    {
     "name": "stdout",
     "output_type": "stream",
     "text": [
      "The history saving thread hit an unexpected error (OperationalError('database or disk is full')).History will not be written to the database.\n"
     ]
    }
   ],
   "source": [
    "for i in range(2, 23):\n",
    "    driver.get(\"https://tiki.vn/thoi-trang-trung-nien/c49384?page={}\".format(i))                                                                                            \n",
    "    sleep(random.randint(5,10))\n",
    "\n",
    "    elems = driver.find_elements(By.CSS_SELECTOR, \".name\")\n",
    "    title = [elem.text for elem in elems]\n",
    "\n",
    "    elem_link = driver.find_elements(By.CSS_SELECTOR, \".style__ProductLink-sc-7xd6qw-2.fHwskZ.product-item\")\n",
    "    links = [elem.get_attribute('href') for elem in elem_link]\n",
    "\n",
    "    # ======================================  GET price\n",
    "    elems_price = driver.find_elements (By.CSS_SELECTOR, \".price-discount__price\")\n",
    "    price = [elem_price.text for elem_price in elems_price]\n",
    "\n",
    "\n",
    "    df1 = pd.DataFrame(list(zip(title, price, links)), columns =['title', 'price', 'link_item'])\n",
    "    df1[\"index\"]=np.arange(1,len(df1) + 1)\n",
    "\n",
    "\n",
    "\n",
    "    # ======================================  GET discount\n",
    "    elems_discount = driver.find_elements(By.CSS_SELECTOR, \".price-discount__discount\")\n",
    "    discount = [elem_discount.text if elem_discount.text.strip() else float('nan') for elem_discount in elems_discount]\n",
    "\n",
    "\n",
    "    if len(discount) == len(df1):\n",
    "        df1[\"discount\"] = discount\n",
    "    else:\n",
    "        diff_length = len(df1) - len(discount)\n",
    "        df1[\"discount\"] = discount + [float('nan')] * diff_length if diff_length > 0 else [float('nan')] * len(df1)\n",
    "\n",
    "\n",
    "\n",
    "    elems_sale = driver.find_elements(By.CSS_SELECTOR, \".style__StyledRatingList-sc-7xd6qw-6.eMNcac\")\n",
    "    sale = [elem.text for elem in elems_sale]\n",
    "\n",
    "    if len(sale) == len(df1):\n",
    "        df1[\"sales\"] = sale\n",
    "    else:\n",
    "        diff_length = len(df1) - len(sale)\n",
    "        df1[\"sales\"] = sale + [float('nan')] * diff_length if diff_length > 0 else sale[:len(df1)]\n",
    "\n",
    "#     df1[\"brand\"] = \"Mamamy\"\n",
    "    df1[\"category\"] = \"thoitrangtrungnien\"\n",
    "    df1.to_csv('tk_ttn_tttn_t{}.csv'.format(i), index=False, encoding='utf-8')\n",
    "\n",
    "\n"
   ]
  },
  {
   "cell_type": "code",
   "execution_count": null,
   "id": "5c867f94",
   "metadata": {},
   "outputs": [],
   "source": []
  },
  {
   "cell_type": "code",
   "execution_count": null,
   "id": "765b3de2",
   "metadata": {},
   "outputs": [],
   "source": []
  },
  {
   "cell_type": "code",
   "execution_count": null,
   "id": "f08f4c41",
   "metadata": {},
   "outputs": [],
   "source": []
  }
 ],
 "metadata": {
  "kernelspec": {
   "display_name": "Python 3 (ipykernel)",
   "language": "python",
   "name": "python3"
  },
  "language_info": {
   "codemirror_mode": {
    "name": "ipython",
    "version": 3
   },
   "file_extension": ".py",
   "mimetype": "text/x-python",
   "name": "python",
   "nbconvert_exporter": "python",
   "pygments_lexer": "ipython3",
   "version": "3.9.12"
  }
 },
 "nbformat": 4,
 "nbformat_minor": 5
}
