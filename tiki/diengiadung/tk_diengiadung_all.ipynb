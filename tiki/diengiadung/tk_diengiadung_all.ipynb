{
 "cells": [
  {
   "cell_type": "code",
   "execution_count": 1,
   "id": "81424b8d",
   "metadata": {},
   "outputs": [],
   "source": [
    "import pandas as pd\n",
    "import os \n",
    "import numpy as np\n",
    "import matplotlib.pyplot as plt\n"
   ]
  },
  {
   "cell_type": "code",
   "execution_count": 2,
   "id": "de657aca",
   "metadata": {},
   "outputs": [
    {
     "data": {
      "text/plain": [
       "['.ipynb_checkpoints',\n",
       " 'dodungnhabep',\n",
       " 'thietbigiadinh',\n",
       " 'tk_diengiadung_all.ipynb',\n",
       " 'tk_dodungnhabep_all_ed.csv',\n",
       " 'tk_thietbigiadinh_all_ed.csv']"
      ]
     },
     "execution_count": 2,
     "metadata": {},
     "output_type": "execute_result"
    }
   ],
   "source": [
    "path = r\"D:\\CNTT\\py_for_da\\crawl_data_analyst\\tiki\\diengiadung\"\n",
    "os.listdir(path)\n"
   ]
  },
  {
   "cell_type": "code",
   "execution_count": 3,
   "id": "fd3d4727",
   "metadata": {},
   "outputs": [],
   "source": [
    "frames = []\n",
    "for file in os.listdir(path):\n",
    "    if file.endswith('.csv'):\n",
    "        filepath = path + '\\\\' + file\n",
    "        df1 = pd.read_csv(filepath)\n",
    "        frames.append(df1)\n",
    "        result = pd.concat(frames)\n",
    "\n",
    "df_all = result\n",
    "df_all.to_csv(\"tk_diengiadung_all.csv\", index=\"False\")"
   ]
  },
  {
   "cell_type": "code",
   "execution_count": 5,
   "id": "66f3194d",
   "metadata": {},
   "outputs": [
    {
     "data": {
      "text/html": [
       "<div>\n",
       "<style scoped>\n",
       "    .dataframe tbody tr th:only-of-type {\n",
       "        vertical-align: middle;\n",
       "    }\n",
       "\n",
       "    .dataframe tbody tr th {\n",
       "        vertical-align: top;\n",
       "    }\n",
       "\n",
       "    .dataframe thead th {\n",
       "        text-align: right;\n",
       "    }\n",
       "</style>\n",
       "<table border=\"1\" class=\"dataframe\">\n",
       "  <thead>\n",
       "    <tr style=\"text-align: right;\">\n",
       "      <th></th>\n",
       "      <th>Unnamed: 0</th>\n",
       "      <th>title</th>\n",
       "      <th>price</th>\n",
       "      <th>link_item</th>\n",
       "      <th>discount</th>\n",
       "      <th>sales</th>\n",
       "      <th>category</th>\n",
       "      <th>revenue</th>\n",
       "    </tr>\n",
       "  </thead>\n",
       "  <tbody>\n",
       "    <tr>\n",
       "      <th>0</th>\n",
       "      <td>0</td>\n",
       "      <td>Máy xay cafe 600N</td>\n",
       "      <td>699000</td>\n",
       "      <td>https://tiki.vn/may-xay-cafe-600n-p23829470.ht...</td>\n",
       "      <td>-2%</td>\n",
       "      <td>199.0</td>\n",
       "      <td>dodungnhabep</td>\n",
       "      <td>1.391010e+08</td>\n",
       "    </tr>\n",
       "    <tr>\n",
       "      <th>1</th>\n",
       "      <td>1</td>\n",
       "      <td>Máy trộn bột GOURMETMAXX 5L 1500W - Thương hiệ...</td>\n",
       "      <td>2399000</td>\n",
       "      <td>https://tiki.vn/may-tron-bot-gourmetmaxx-5l-15...</td>\n",
       "      <td>-45%</td>\n",
       "      <td>25.0</td>\n",
       "      <td>dodungnhabep</td>\n",
       "      <td>5.997500e+07</td>\n",
       "    </tr>\n",
       "    <tr>\n",
       "      <th>2</th>\n",
       "      <td>2</td>\n",
       "      <td>Nồi Chiên Không Dầu Magic A-802 (4.6 Lít) Đen ...</td>\n",
       "      <td>1090000</td>\n",
       "      <td>https://tiki.vn/noi-chien-khong-dau-magic-a-80...</td>\n",
       "      <td>-46%</td>\n",
       "      <td>1100.0</td>\n",
       "      <td>dodungnhabep</td>\n",
       "      <td>1.199000e+09</td>\n",
       "    </tr>\n",
       "    <tr>\n",
       "      <th>3</th>\n",
       "      <td>3</td>\n",
       "      <td>Máy Đánh Trứng Daewoo DWHM-354 (150W) - Hàng c...</td>\n",
       "      <td>216000</td>\n",
       "      <td>https://tiki.vn/may-danh-trung-daewoo-dwhm-354...</td>\n",
       "      <td>NaN</td>\n",
       "      <td>1200.0</td>\n",
       "      <td>dodungnhabep</td>\n",
       "      <td>2.592000e+08</td>\n",
       "    </tr>\n",
       "    <tr>\n",
       "      <th>4</th>\n",
       "      <td>4</td>\n",
       "      <td>Bếp Đôi Điện Từ Hồng Ngoại Sunhouse SHB9104MT ...</td>\n",
       "      <td>2940000</td>\n",
       "      <td>https://tiki.vn/bep-doi-dien-tu-hong-ngoai-sun...</td>\n",
       "      <td>-6%</td>\n",
       "      <td>526.0</td>\n",
       "      <td>dodungnhabep</td>\n",
       "      <td>1.546440e+09</td>\n",
       "    </tr>\n",
       "  </tbody>\n",
       "</table>\n",
       "</div>"
      ],
      "text/plain": [
       "   Unnamed: 0                                              title    price  \\\n",
       "0           0                                  Máy xay cafe 600N   699000   \n",
       "1           1  Máy trộn bột GOURMETMAXX 5L 1500W - Thương hiệ...  2399000   \n",
       "2           2  Nồi Chiên Không Dầu Magic A-802 (4.6 Lít) Đen ...  1090000   \n",
       "3           3  Máy Đánh Trứng Daewoo DWHM-354 (150W) - Hàng c...   216000   \n",
       "4           4  Bếp Đôi Điện Từ Hồng Ngoại Sunhouse SHB9104MT ...  2940000   \n",
       "\n",
       "                                           link_item discount   sales  \\\n",
       "0  https://tiki.vn/may-xay-cafe-600n-p23829470.ht...      -2%   199.0   \n",
       "1  https://tiki.vn/may-tron-bot-gourmetmaxx-5l-15...     -45%    25.0   \n",
       "2  https://tiki.vn/noi-chien-khong-dau-magic-a-80...     -46%  1100.0   \n",
       "3  https://tiki.vn/may-danh-trung-daewoo-dwhm-354...      NaN  1200.0   \n",
       "4  https://tiki.vn/bep-doi-dien-tu-hong-ngoai-sun...      -6%   526.0   \n",
       "\n",
       "       category       revenue  \n",
       "0  dodungnhabep  1.391010e+08  \n",
       "1  dodungnhabep  5.997500e+07  \n",
       "2  dodungnhabep  1.199000e+09  \n",
       "3  dodungnhabep  2.592000e+08  \n",
       "4  dodungnhabep  1.546440e+09  "
      ]
     },
     "execution_count": 5,
     "metadata": {},
     "output_type": "execute_result"
    }
   ],
   "source": [
    "df_all.head()"
   ]
  },
  {
   "cell_type": "code",
   "execution_count": 6,
   "id": "dc1a59de",
   "metadata": {},
   "outputs": [
    {
     "name": "stdout",
     "output_type": "stream",
     "text": [
      "category\n",
      "dodungnhabep    2.845005e+11\n",
      "thietbij        1.425363e+11\n",
      "Name: revenue, dtype: float64\n",
      "427036827008.0\n"
     ]
    }
   ],
   "source": [
    "total_sales_by_category = df_all.groupby('category')['revenue'].sum()\n",
    "total_sales = df_all['revenue'].sum()\n",
    "print(total_sales_by_category)\n",
    "print(total_sales)"
   ]
  },
  {
   "cell_type": "code",
   "execution_count": 7,
   "id": "2c0b55fa",
   "metadata": {},
   "outputs": [
    {
     "data": {
      "image/png": "[encoded data removed]",
      "text/plain": [
       "<Figure size 1000x600 with 1 Axes>"
      ]
     },
     "metadata": {},
     "output_type": "display_data"
    }
   ],
   "source": [
    "data = {'dodungnhabep': 2.845005e+11,\n",
    "        'thietbij': 1.425363e+11}\n",
    "revenue_series = pd.Series(data)\n",
    "\n",
    "# Vẽ biểu đồ cột ngang\n",
    "plt.figure(figsize=(10, 6))\n",
    "revenue_series.sort_values().plot(kind='barh', color='skyblue')\n",
    "\n",
    "# Hiển thị giá trị doanh số trên từng cột\n",
    "for bar in plt.barh(revenue_series.sort_values().index, revenue_series.sort_values(), color='skyblue'):\n",
    "    plt.text(bar.get_width(), bar.get_y() + bar.get_height() / 2, f'{bar.get_width():,.0f}', \n",
    "             va='center', ha='left', color='black')\n",
    "\n",
    "plt.title('Tổng doanh số theo category')\n",
    "plt.xlabel('Revenue')\n",
    "plt.ylabel('Category')\n",
    "plt.show()\n"
   ]
  },
  {
   "cell_type": "code",
   "execution_count": null,
   "id": "338550cf",
   "metadata": {},
   "outputs": [],
   "source": []
  },
  {
   "cell_type": "code",
   "execution_count": null,
   "id": "27518dd1",
   "metadata": {},
   "outputs": [],
   "source": []
  },
  {
   "cell_type": "code",
   "execution_count": null,
   "id": "22fe0955",
   "metadata": {},
   "outputs": [],
   "source": []
  },
  {
   "cell_type": "code",
   "execution_count": null,
   "id": "b09be7a6",
   "metadata": {},
   "outputs": [],
   "source": []
  },
  {
   "cell_type": "code",
   "execution_count": null,
   "id": "8d4f66fc",
   "metadata": {},
   "outputs": [],
   "source": []
  },
  {
   "cell_type": "code",
   "execution_count": null,
   "id": "7a7d45a7",
   "metadata": {},
   "outputs": [],
   "source": []
  }
 ],
 "metadata": {
  "kernelspec": {
   "display_name": "Python 3 (ipykernel)",
   "language": "python",
   "name": "python3"
  },
  "language_info": {
   "codemirror_mode": {
    "name": "ipython",
    "version": 3
   },
   "file_extension": ".py",
   "mimetype": "text/x-python",
   "name": "python",
   "nbconvert_exporter": "python",
   "pygments_lexer": "ipython3",
   "version": "3.9.13"
  }
 },
 "nbformat": 4,
 "nbformat_minor": 5
}
