{
 "cells": [
  {
   "cell_type": "code",
   "execution_count": 1,
   "id": "78e16a87",
   "metadata": {},
   "outputs": [],
   "source": [
    "import numpy as np\n",
    "from selenium import webdriver\n",
    "from time import sleep\n",
    "#from selenium.webdriver. common.keys import Keys\n",
    "import random\n",
    "#from selenium.webdriver import ActionChains\n",
    "#from webdriver_manager.chrome import ChromeDriverManager\n",
    "from selenium.webdriver.support.ui import WebDriverWait\n",
    "from selenium.webdriver.support import expected_conditions as EC\n",
    "from selenium.common.exceptions import NoSuchElementException, ElementNotInteractableException\n",
    "from selenium.webdriver.common.by import By\n",
    "import pandas as pd\n",
    "from selenium.webdriver.chrome.options import Options\n",
    "from selenium.common.exceptions import NoSuchElementException\n",
    "\n",
    "# Declare browser\n",
    "\n",
    "# ======================================  GET link/title\n",
    "chrome_options = Options()\n",
    "\n",
    "\n",
    "# Khởi tạo trình duyệt với các tùy chọn\n",
    "driver = webdriver.Chrome(options=chrome_options)\n",
    "\n",
    "\n",
    "# https://tiki.vn/dien-thoai-smartphone/c1795?brand=18802&page=2\n"
   ]
  },
  {
   "cell_type": "code",
   "execution_count": 2,
   "id": "40393627",
   "metadata": {},
   "outputs": [
    {
     "ename": "WebDriverException",
     "evalue": "Message: disconnected: received Inspector.detached event\n  (Session info: chrome=120.0.6099.217)\nStacktrace:\n\tGetHandleVerifier [0x00007FF646442142+3514994]\n\t(No symbol) [0x00007FF646060CE2]\n\t(No symbol) [0x00007FF645F076AA]\n\t(No symbol) [0x00007FF645EF1D04]\n\t(No symbol) [0x00007FF645EF1723]\n\t(No symbol) [0x00007FF645EF0746]\n\t(No symbol) [0x00007FF645EF06EB]\n\t(No symbol) [0x00007FF645EEEE3D]\n\t(No symbol) [0x00007FF645EEF7CE]\n\t(No symbol) [0x00007FF645F0AF81]\n\t(No symbol) [0x00007FF645F0BA98]\n\t(No symbol) [0x00007FF645F0F38F]\n\t(No symbol) [0x00007FF645F0F480]\n\t(No symbol) [0x00007FF645F4BB0E]\n\t(No symbol) [0x00007FF645F75FEA]\n\t(No symbol) [0x00007FF645F463B6]\n\t(No symbol) [0x00007FF645F76490]\n\t(No symbol) [0x00007FF645F928F6]\n\t(No symbol) [0x00007FF645F75D93]\n\t(No symbol) [0x00007FF645F44BDC]\n\t(No symbol) [0x00007FF645F45C64]\n\tGetHandleVerifier [0x00007FF64646E16B+3695259]\n\tGetHandleVerifier [0x00007FF6464C6737+4057191]\n\tGetHandleVerifier [0x00007FF6464BE4E3+4023827]\n\tGetHandleVerifier [0x00007FF6461904F9+689705]\n\t(No symbol) [0x00007FF64606C048]\n\t(No symbol) [0x00007FF646068044]\n\t(No symbol) [0x00007FF6460681C9]\n\t(No symbol) [0x00007FF6460588C4]\n\tBaseThreadInitThunk [0x00007FFBF0A9257D+29]\n\tRtlUserThreadStart [0x00007FFBF184AA58+40]\n",
     "output_type": "error",
     "traceback": [
      "\u001b[1;31m---------------------------------------------------------------------------\u001b[0m",
      "\u001b[1;31mWebDriverException\u001b[0m                        Traceback (most recent call last)",
      "Input \u001b[1;32mIn [2]\u001b[0m, in \u001b[0;36m<cell line: 1>\u001b[1;34m()\u001b[0m\n\u001b[0;32m      3\u001b[0m sleep(random\u001b[38;5;241m.\u001b[39mrandint(\u001b[38;5;241m5\u001b[39m,\u001b[38;5;241m10\u001b[39m))\n\u001b[0;32m      5\u001b[0m elems \u001b[38;5;241m=\u001b[39m driver\u001b[38;5;241m.\u001b[39mfind_elements(By\u001b[38;5;241m.\u001b[39mCSS_SELECTOR, \u001b[38;5;124m\"\u001b[39m\u001b[38;5;124m.name\u001b[39m\u001b[38;5;124m\"\u001b[39m)\n\u001b[1;32m----> 6\u001b[0m title \u001b[38;5;241m=\u001b[39m [elem\u001b[38;5;241m.\u001b[39mtext \u001b[38;5;28;01mfor\u001b[39;00m elem \u001b[38;5;129;01min\u001b[39;00m elems]\n\u001b[0;32m      8\u001b[0m elem_link \u001b[38;5;241m=\u001b[39m driver\u001b[38;5;241m.\u001b[39mfind_elements(By\u001b[38;5;241m.\u001b[39mCSS_SELECTOR, \u001b[38;5;124m\"\u001b[39m\u001b[38;5;124m.style__ProductLink-sc-7xd6qw-2.fHwskZ.product-item\u001b[39m\u001b[38;5;124m\"\u001b[39m)\n\u001b[0;32m      9\u001b[0m links \u001b[38;5;241m=\u001b[39m [elem\u001b[38;5;241m.\u001b[39mget_attribute(\u001b[38;5;124m'\u001b[39m\u001b[38;5;124mhref\u001b[39m\u001b[38;5;124m'\u001b[39m) \u001b[38;5;28;01mfor\u001b[39;00m elem \u001b[38;5;129;01min\u001b[39;00m elem_link]\n",
      "Input \u001b[1;32mIn [2]\u001b[0m, in \u001b[0;36m<listcomp>\u001b[1;34m(.0)\u001b[0m\n\u001b[0;32m      3\u001b[0m sleep(random\u001b[38;5;241m.\u001b[39mrandint(\u001b[38;5;241m5\u001b[39m,\u001b[38;5;241m10\u001b[39m))\n\u001b[0;32m      5\u001b[0m elems \u001b[38;5;241m=\u001b[39m driver\u001b[38;5;241m.\u001b[39mfind_elements(By\u001b[38;5;241m.\u001b[39mCSS_SELECTOR, \u001b[38;5;124m\"\u001b[39m\u001b[38;5;124m.name\u001b[39m\u001b[38;5;124m\"\u001b[39m)\n\u001b[1;32m----> 6\u001b[0m title \u001b[38;5;241m=\u001b[39m [\u001b[43melem\u001b[49m\u001b[38;5;241;43m.\u001b[39;49m\u001b[43mtext\u001b[49m \u001b[38;5;28;01mfor\u001b[39;00m elem \u001b[38;5;129;01min\u001b[39;00m elems]\n\u001b[0;32m      8\u001b[0m elem_link \u001b[38;5;241m=\u001b[39m driver\u001b[38;5;241m.\u001b[39mfind_elements(By\u001b[38;5;241m.\u001b[39mCSS_SELECTOR, \u001b[38;5;124m\"\u001b[39m\u001b[38;5;124m.style__ProductLink-sc-7xd6qw-2.fHwskZ.product-item\u001b[39m\u001b[38;5;124m\"\u001b[39m)\n\u001b[0;32m      9\u001b[0m links \u001b[38;5;241m=\u001b[39m [elem\u001b[38;5;241m.\u001b[39mget_attribute(\u001b[38;5;124m'\u001b[39m\u001b[38;5;124mhref\u001b[39m\u001b[38;5;124m'\u001b[39m) \u001b[38;5;28;01mfor\u001b[39;00m elem \u001b[38;5;129;01min\u001b[39;00m elem_link]\n",
      "File \u001b[1;32m~\\anaconda3\\lib\\site-packages\\selenium\\webdriver\\remote\\webelement.py:90\u001b[0m, in \u001b[0;36mWebElement.text\u001b[1;34m(self)\u001b[0m\n\u001b[0;32m     87\u001b[0m \u001b[38;5;129m@property\u001b[39m\n\u001b[0;32m     88\u001b[0m \u001b[38;5;28;01mdef\u001b[39;00m \u001b[38;5;21mtext\u001b[39m(\u001b[38;5;28mself\u001b[39m) \u001b[38;5;241m-\u001b[39m\u001b[38;5;241m>\u001b[39m \u001b[38;5;28mstr\u001b[39m:\n\u001b[0;32m     89\u001b[0m     \u001b[38;5;124;03m\"\"\"The text of the element.\"\"\"\u001b[39;00m\n\u001b[1;32m---> 90\u001b[0m     \u001b[38;5;28;01mreturn\u001b[39;00m \u001b[38;5;28;43mself\u001b[39;49m\u001b[38;5;241;43m.\u001b[39;49m\u001b[43m_execute\u001b[49m\u001b[43m(\u001b[49m\u001b[43mCommand\u001b[49m\u001b[38;5;241;43m.\u001b[39;49m\u001b[43mGET_ELEMENT_TEXT\u001b[49m\u001b[43m)\u001b[49m[\u001b[38;5;124m\"\u001b[39m\u001b[38;5;124mvalue\u001b[39m\u001b[38;5;124m\"\u001b[39m]\n",
      "File \u001b[1;32m~\\anaconda3\\lib\\site-packages\\selenium\\webdriver\\remote\\webelement.py:395\u001b[0m, in \u001b[0;36mWebElement._execute\u001b[1;34m(self, command, params)\u001b[0m\n\u001b[0;32m    393\u001b[0m     params \u001b[38;5;241m=\u001b[39m {}\n\u001b[0;32m    394\u001b[0m params[\u001b[38;5;124m\"\u001b[39m\u001b[38;5;124mid\u001b[39m\u001b[38;5;124m\"\u001b[39m] \u001b[38;5;241m=\u001b[39m \u001b[38;5;28mself\u001b[39m\u001b[38;5;241m.\u001b[39m_id\n\u001b[1;32m--> 395\u001b[0m \u001b[38;5;28;01mreturn\u001b[39;00m \u001b[38;5;28;43mself\u001b[39;49m\u001b[38;5;241;43m.\u001b[39;49m\u001b[43m_parent\u001b[49m\u001b[38;5;241;43m.\u001b[39;49m\u001b[43mexecute\u001b[49m\u001b[43m(\u001b[49m\u001b[43mcommand\u001b[49m\u001b[43m,\u001b[49m\u001b[43m \u001b[49m\u001b[43mparams\u001b[49m\u001b[43m)\u001b[49m\n",
      "File \u001b[1;32m~\\anaconda3\\lib\\site-packages\\selenium\\webdriver\\remote\\webdriver.py:348\u001b[0m, in \u001b[0;36mWebDriver.execute\u001b[1;34m(self, driver_command, params)\u001b[0m\n\u001b[0;32m    346\u001b[0m response \u001b[38;5;241m=\u001b[39m \u001b[38;5;28mself\u001b[39m\u001b[38;5;241m.\u001b[39mcommand_executor\u001b[38;5;241m.\u001b[39mexecute(driver_command, params)\n\u001b[0;32m    347\u001b[0m \u001b[38;5;28;01mif\u001b[39;00m response:\n\u001b[1;32m--> 348\u001b[0m     \u001b[38;5;28;43mself\u001b[39;49m\u001b[38;5;241;43m.\u001b[39;49m\u001b[43merror_handler\u001b[49m\u001b[38;5;241;43m.\u001b[39;49m\u001b[43mcheck_response\u001b[49m\u001b[43m(\u001b[49m\u001b[43mresponse\u001b[49m\u001b[43m)\u001b[49m\n\u001b[0;32m    349\u001b[0m     response[\u001b[38;5;124m\"\u001b[39m\u001b[38;5;124mvalue\u001b[39m\u001b[38;5;124m\"\u001b[39m] \u001b[38;5;241m=\u001b[39m \u001b[38;5;28mself\u001b[39m\u001b[38;5;241m.\u001b[39m_unwrap_value(response\u001b[38;5;241m.\u001b[39mget(\u001b[38;5;124m\"\u001b[39m\u001b[38;5;124mvalue\u001b[39m\u001b[38;5;124m\"\u001b[39m, \u001b[38;5;28;01mNone\u001b[39;00m))\n\u001b[0;32m    350\u001b[0m     \u001b[38;5;28;01mreturn\u001b[39;00m response\n",
      "File \u001b[1;32m~\\anaconda3\\lib\\site-packages\\selenium\\webdriver\\remote\\errorhandler.py:229\u001b[0m, in \u001b[0;36mErrorHandler.check_response\u001b[1;34m(self, response)\u001b[0m\n\u001b[0;32m    227\u001b[0m         alert_text \u001b[38;5;241m=\u001b[39m value[\u001b[38;5;124m\"\u001b[39m\u001b[38;5;124malert\u001b[39m\u001b[38;5;124m\"\u001b[39m]\u001b[38;5;241m.\u001b[39mget(\u001b[38;5;124m\"\u001b[39m\u001b[38;5;124mtext\u001b[39m\u001b[38;5;124m\"\u001b[39m)\n\u001b[0;32m    228\u001b[0m     \u001b[38;5;28;01mraise\u001b[39;00m exception_class(message, screen, stacktrace, alert_text)  \u001b[38;5;66;03m# type: ignore[call-arg]  # mypy is not smart enough here\u001b[39;00m\n\u001b[1;32m--> 229\u001b[0m \u001b[38;5;28;01mraise\u001b[39;00m exception_class(message, screen, stacktrace)\n",
      "\u001b[1;31mWebDriverException\u001b[0m: Message: disconnected: received Inspector.detached event\n  (Session info: chrome=120.0.6099.217)\nStacktrace:\n\tGetHandleVerifier [0x00007FF646442142+3514994]\n\t(No symbol) [0x00007FF646060CE2]\n\t(No symbol) [0x00007FF645F076AA]\n\t(No symbol) [0x00007FF645EF1D04]\n\t(No symbol) [0x00007FF645EF1723]\n\t(No symbol) [0x00007FF645EF0746]\n\t(No symbol) [0x00007FF645EF06EB]\n\t(No symbol) [0x00007FF645EEEE3D]\n\t(No symbol) [0x00007FF645EEF7CE]\n\t(No symbol) [0x00007FF645F0AF81]\n\t(No symbol) [0x00007FF645F0BA98]\n\t(No symbol) [0x00007FF645F0F38F]\n\t(No symbol) [0x00007FF645F0F480]\n\t(No symbol) [0x00007FF645F4BB0E]\n\t(No symbol) [0x00007FF645F75FEA]\n\t(No symbol) [0x00007FF645F463B6]\n\t(No symbol) [0x00007FF645F76490]\n\t(No symbol) [0x00007FF645F928F6]\n\t(No symbol) [0x00007FF645F75D93]\n\t(No symbol) [0x00007FF645F44BDC]\n\t(No symbol) [0x00007FF645F45C64]\n\tGetHandleVerifier [0x00007FF64646E16B+3695259]\n\tGetHandleVerifier [0x00007FF6464C6737+4057191]\n\tGetHandleVerifier [0x00007FF6464BE4E3+4023827]\n\tGetHandleVerifier [0x00007FF6461904F9+689705]\n\t(No symbol) [0x00007FF64606C048]\n\t(No symbol) [0x00007FF646068044]\n\t(No symbol) [0x00007FF6460681C9]\n\t(No symbol) [0x00007FF6460588C4]\n\tBaseThreadInitThunk [0x00007FFBF0A9257D+29]\n\tRtlUserThreadStart [0x00007FFBF184AA58+40]\n"
     ]
    }
   ],
   "source": [
    "for i in range(2, 51):\n",
    "    driver.get(\"https://tiki.vn/ao-so-mi-nam/c918?page={}\".format(i))                                                                                            \n",
    "    sleep(random.randint(5,10))\n",
    "\n",
    "    elems = driver.find_elements(By.CSS_SELECTOR, \".name\")\n",
    "    title = [elem.text for elem in elems]\n",
    "\n",
    "    elem_link = driver.find_elements(By.CSS_SELECTOR, \".style__ProductLink-sc-7xd6qw-2.fHwskZ.product-item\")\n",
    "    links = [elem.get_attribute('href') for elem in elem_link]\n",
    "\n",
    "    # ======================================  GET price\n",
    "    elems_price = driver.find_elements (By.CSS_SELECTOR, \".price-discount__price\")\n",
    "    price = [elem_price.text for elem_price in elems_price]\n",
    "\n",
    "\n",
    "    df1 = pd.DataFrame(list(zip(title, price, links)), columns =['title', 'price', 'link_item'])\n",
    "    df1[\"index\"]=np.arange(1,len(df1) + 1)\n",
    "\n",
    "\n",
    "\n",
    "    # ======================================  GET discount\n",
    "    elems_discount = driver.find_elements(By.CSS_SELECTOR, \".price-discount__discount\")\n",
    "    discount = [elem_discount.text if elem_discount.text.strip() else float('nan') for elem_discount in elems_discount]\n",
    "\n",
    "\n",
    "    if len(discount) == len(df1):\n",
    "        df1[\"discount\"] = discount\n",
    "    else:\n",
    "        diff_length = len(df1) - len(discount)\n",
    "        df1[\"discount\"] = discount + [float('nan')] * diff_length if diff_length > 0 else [float('nan')] * len(df1)\n",
    "\n",
    "\n",
    "\n",
    "    elems_sale = driver.find_elements(By.CSS_SELECTOR, \".style__StyledRatingList-sc-7xd6qw-6.eMNcac\")\n",
    "    sale = [elem.text for elem in elems_sale]\n",
    "\n",
    "    if len(sale) == len(df1):\n",
    "        df1[\"sales\"] = sale\n",
    "    else:\n",
    "        diff_length = len(df1) - len(sale)\n",
    "        df1[\"sales\"] = sale + [float('nan')] * diff_length if diff_length > 0 else sale[:len(df1)]\n",
    "\n",
    "#     df1[\"brand\"] = \"Mamamy\"\n",
    "    df1[\"category\"] = \"aosomi\"\n",
    "    df1.to_csv('tk_ttnam_aosomi_t{}.csv'.format(i), index=False, encoding='utf-8')\n",
    "\n",
    "\n"
   ]
  },
  {
   "cell_type": "code",
   "execution_count": null,
   "id": "5c867f94",
   "metadata": {},
   "outputs": [],
   "source": []
  },
  {
   "cell_type": "code",
   "execution_count": null,
   "id": "765b3de2",
   "metadata": {},
   "outputs": [],
   "source": []
  },
  {
   "cell_type": "code",
   "execution_count": null,
   "id": "f08f4c41",
   "metadata": {},
   "outputs": [],
   "source": []
  }
 ],
 "metadata": {
  "kernelspec": {
   "display_name": "Python 3 (ipykernel)",
   "language": "python",
   "name": "python3"
  },
  "language_info": {
   "codemirror_mode": {
    "name": "ipython",
    "version": 3
   },
   "file_extension": ".py",
   "mimetype": "text/x-python",
   "name": "python",
   "nbconvert_exporter": "python",
   "pygments_lexer": "ipython3",
   "version": "3.9.12"
  }
 },
 "nbformat": 4,
 "nbformat_minor": 5
}
