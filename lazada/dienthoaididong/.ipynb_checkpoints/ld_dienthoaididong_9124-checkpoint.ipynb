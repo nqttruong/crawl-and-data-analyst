{
 "cells": [
  {
   "cell_type": "code",
   "execution_count": null,
   "id": "bddd43e6",
   "metadata": {},
   "outputs": [],
   "source": [
    "import numpy as np\n",
    "from selenium import webdriver\n",
    "from time import sleep\n",
    "#from selenium.webdriver. common.keys import Keys\n",
    "import random\n",
    "#from selenium.webdriver import ActionChains\n",
    "#from webdriver_manager.chrome import ChromeDriverManager\n",
    "from selenium.common.exceptions import NoSuchElementException, ElementNotInteractableException\n",
    "from selenium.webdriver.common.by import By\n",
    "import pandas as pd\n",
    "from selenium.webdriver.chrome.options import Options\n",
    "from selenium.common.exceptions import NoSuchElementException"
   ]
  },
  {
   "cell_type": "code",
   "execution_count": null,
   "id": "4c3ad5be",
   "metadata": {},
   "outputs": [],
   "source": [
    "# Declare browser\n",
    "chrome_options = Options()\n",
    "driver = webdriver.Chrome(options=chrome_options)\n",
    "\n",
    "#https://www.lazada.vn/may-tinh-bang/?spm=a2o4n.home-vn.6598063730.2.7d6a3bdcsPdPaK\n",
    "#https://www.lazada.vn/laptop/\n",
    "# Open URL \n",
    "driver.get(\"https://www.lazada.vn/may-tinh-de-ban-va-phu-kien/?sort=popularity\")                                                                                            \n",
    "sleep(random.randint(5,10))"
   ]
  },
  {
   "cell_type": "code",
   "execution_count": null,
   "id": "32545e86",
   "metadata": {},
   "outputs": [],
   "source": [
    "# ======================================  GET link/title\n",
    "elems = driver.find_elements(By.CSS_SELECTOR, \".RfADt [href]\")\n",
    "title = [elem.text for elem in elems]\n",
    "links = [elem.get_attribute('href') for elem in elems]\n",
    "\n",
    "# ======================================  GET price\n",
    "elems_price = driver.find_elements (By.CSS_SELECTOR, \".aBrP0\")\n",
    "price = [elem_price.text for elem_price in elems_price]\n",
    "\n",
    "\n",
    "df1 = pd.DataFrame(list(zip(title, price, links)), columns =['title', 'price','Link_item'])\n",
    "df1[\"index_\"]=np.arange(1,len(df1) + 1)\n",
    "\n",
    "# ======================================  GET discount\n",
    "elems_discount = driver.find_elements (By.CSS_SELECTOR, \".WNoq3\")\n",
    "discount = [elem_discount.text for elem_discount in elems_discount]\n",
    "        \n",
    "df1[\"Discount\"] = discount\n",
    "\n",
    "elems_sale = driver.find_elements (By.CSS_SELECTOR, \"._6uN7R\")\n",
    "sale = [elem_sale.text for elem_sale in elems_sale]"
   ]
  },
  {
   "cell_type": "code",
   "execution_count": null,
   "id": "0203b081",
   "metadata": {},
   "outputs": [],
   "source": [
    "df2 = pd.DataFrame(list(zip(numberofsales, reviews, idx)), columns = [\"numberofsales\", \"reviews\", \"idx\"])\n",
    "df3 = df1.merge(df2, how='left', left_on='index_', right_on='idx')\n"
   ]
  },
  {
   "cell_type": "code",
   "execution_count": null,
   "id": "1506ea8b",
   "metadata": {},
   "outputs": [],
   "source": [
    "brand, store = [], []\n",
    "for i in range(0, 40):\n",
    "    driver.get(links[i])\n",
    "    elems_brand = driver.find_elements(By.CSS_SELECTOR, \"a.pdp-link.pdp-link_size_s.pdp-link_theme_blue.pdp-product-brand__brand-link\")\n",
    "    elem_brand = [elem.text for elem in elems_brand]\n",
    "    elems_store = driver.find_elements(By.CSS_SELECTOR, \"a.pdp-link.pdp-link_size_l.pdp-link_theme_black.seller-name__detail-name\")\n",
    "    elem_store = [elem.text for elem in elems_store]\n",
    "    brand.append(elem_brand)\n",
    "    store.append(elem_store)\n",
    "df3[\"Brand\"] = brand\n",
    "df3[\"Store\"] = store"
   ]
  },
  {
   "cell_type": "code",
   "execution_count": null,
   "id": "9c7bcb86",
   "metadata": {},
   "outputs": [],
   "source": []
  },
  {
   "cell_type": "code",
   "execution_count": null,
   "id": "2da51974",
   "metadata": {},
   "outputs": [],
   "source": []
  },
  {
   "cell_type": "code",
   "execution_count": null,
   "id": "139c77bb",
   "metadata": {},
   "outputs": [],
   "source": []
  },
  {
   "cell_type": "code",
   "execution_count": null,
   "id": "a1c3d250",
   "metadata": {},
   "outputs": [],
   "source": []
  },
  {
   "cell_type": "code",
   "execution_count": null,
   "id": "9b2145e5",
   "metadata": {},
   "outputs": [],
   "source": []
  },
  {
   "cell_type": "code",
   "execution_count": null,
   "id": "e173065e",
   "metadata": {},
   "outputs": [],
   "source": []
  }
 ],
 "metadata": {
  "kernelspec": {
   "display_name": "Python 3 (ipykernel)",
   "language": "python",
   "name": "python3"
  },
  "language_info": {
   "codemirror_mode": {
    "name": "ipython",
    "version": 3
   },
   "file_extension": ".py",
   "mimetype": "text/x-python",
   "name": "python",
   "nbconvert_exporter": "python",
   "pygments_lexer": "ipython3",
   "version": "3.9.12"
  }
 },
 "nbformat": 4,
 "nbformat_minor": 5
}
