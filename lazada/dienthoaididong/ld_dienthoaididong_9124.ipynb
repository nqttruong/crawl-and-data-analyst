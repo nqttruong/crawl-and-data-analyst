{
 "cells": [
  {
   "cell_type": "code",
   "execution_count": 7,
   "id": "bddd43e6",
   "metadata": {},
   "outputs": [],
   "source": [
    "import numpy as np\n",
    "from selenium import webdriver\n",
    "from time import sleep\n",
    "#from selenium.webdriver. common.keys import Keys\n",
    "import random\n",
    "#from selenium.webdriver import ActionChains\n",
    "#from webdriver_manager.chrome import ChromeDriverManager\n",
    "from selenium.common.exceptions import NoSuchElementException, ElementNotInteractableException\n",
    "from selenium.webdriver.common.by import By\n",
    "import pandas as pd\n",
    "from selenium.webdriver.chrome.options import Options\n",
    "from selenium.common.exceptions import NoSuchElementException"
   ]
  },
  {
   "cell_type": "code",
   "execution_count": 8,
   "id": "5833bfec",
   "metadata": {},
   "outputs": [],
   "source": [
    "# Declare browser\n",
    "chrome_options = Options()\n",
    "driver = webdriver.Chrome(options=chrome_options)\n",
    "\n",
    "#https://www.lazada.vn/may-tinh-bang/?spm=a2o4n.home-vn.6598063730.2.7d6a3bdcsPdPaK\n",
    "#https://www.lazada.vn/laptop/\n",
    "# Open URL \n",
    "driver.get(\"https://www.lazada.vn/may-tinh-de-ban-va-phu-kien/?sort=popularity\")                                                                                            \n",
    "sleep(random.randint(5,10))"
   ]
  },
  {
   "cell_type": "code",
   "execution_count": 6,
   "id": "d6975a8d",
   "metadata": {},
   "outputs": [
    {
     "ename": "NameError",
     "evalue": "name 'df' is not defined",
     "output_type": "error",
     "traceback": [
      "\u001b[1;31m---------------------------------------------------------------------------\u001b[0m",
      "\u001b[1;31mNameError\u001b[0m                                 Traceback (most recent call last)",
      "Input \u001b[1;32mIn [6]\u001b[0m, in \u001b[0;36m<cell line: 23>\u001b[1;34m()\u001b[0m\n\u001b[0;32m     20\u001b[0m elems_countReviews \u001b[38;5;241m=\u001b[39m driver\u001b[38;5;241m.\u001b[39mfind_elements(By\u001b[38;5;241m.\u001b[39mCSS_SELECTOR, \u001b[38;5;124m\"\u001b[39m\u001b[38;5;124m._6uN7R\u001b[39m\u001b[38;5;124m\"\u001b[39m)\n\u001b[0;32m     21\u001b[0m countReviews \u001b[38;5;241m=\u001b[39m [elem\u001b[38;5;241m.\u001b[39mtext \u001b[38;5;28;01mfor\u001b[39;00m elem \u001b[38;5;129;01min\u001b[39;00m elems_countReviews]\n\u001b[1;32m---> 23\u001b[0m \u001b[43mdf\u001b[49m[\u001b[38;5;124m\"\u001b[39m\u001b[38;5;124mcountReviews\u001b[39m\u001b[38;5;124m\"\u001b[39m] \u001b[38;5;241m=\u001b[39m countReviews\n",
      "\u001b[1;31mNameError\u001b[0m: name 'df' is not defined"
     ]
    }
   ],
   "source": [
    "# ======================================  GET link/title\n",
    "elems = driver.find_elements(By.CSS_SELECTOR, \".RfADt [href]\")\n",
    "title = [elem.text for elem in elems]\n",
    "links = [elem.get_attribute('href') for elem in elems]\n",
    "\n",
    "# ======================================  GET price\n",
    "elems_price = driver.find_elements (By.CSS_SELECTOR, \".aBrP0\")\n",
    "price = [elem_price.text for elem_price in elems_price]\n",
    "\n",
    "\n",
    "df1 = pd.DataFrame(list(zip(title, price, links)), columns =['title', 'price','Link_item'])\n",
    "df1[\"index_\"]=np.arange(1,len(df1) + 1)\n",
    "\n",
    "# ======================================  GET discount\n",
    "elems_discount = driver.find_elements (By.CSS_SELECTOR, \".WNoq3\")\n",
    "discount = [elem_discount.text for elem_discount in elems_discount]\n",
    "        \n",
    "df1[\"Discount\"] = discount\n",
    "\n",
    "elems_countReviews = driver.find_elements(By.CSS_SELECTOR, \"._6uN7R\")\n",
    "countReviews = [elem.text for elem in elems_countReviews]\n",
    "\n",
    "df1[\"countReviews\"] = countReviews"
   ]
  },
  {
   "cell_type": "code",
   "execution_count": null,
   "id": "b26c14c6",
   "metadata": {},
   "outputs": [],
   "source": [
    "df2 = pd.DataFrame(list(zip(numberofsales, reviews, idx)), columns = [\"numberofsales\", \"reviews\", \"idx\"])\n",
    "df3 = df1.merge(df2, how='left', left_on='index_', right_on='idx')\n"
   ]
  },
  {
   "cell_type": "code",
   "execution_count": null,
   "id": "02699b12",
   "metadata": {},
   "outputs": [],
   "source": [
    "brand, store = [], []\n",
    "for i in range(0, 40):\n",
    "    driver.get(links[i])\n",
    "    elems_brand = driver.find_elements(By.CSS_SELECTOR, \"a.pdp-link.pdp-link_size_s.pdp-link_theme_blue.pdp-product-brand__brand-link\")\n",
    "    elem_brand = [elem.text for elem in elems_brand]\n",
    "    elems_store = driver.find_elements(By.CSS_SELECTOR, \"a.pdp-link.pdp-link_size_l.pdp-link_theme_black.seller-name__detail-name\")\n",
    "    elem_store = [elem.text for elem in elems_store]\n",
    "    brand.append(elem_brand)\n",
    "    store.append(elem_store)\n",
    "df3[\"Brand\"] = brand\n",
    "df3[\"Store\"] = store"
   ]
  },
  {
   "cell_type": "code",
   "execution_count": null,
   "id": "08925da8",
   "metadata": {},
   "outputs": [],
   "source": [
    "df3.to_csv('t1_dtdd.csv', index=False, encoding='utf-8')"
   ]
  },
  {
   "cell_type": "code",
   "execution_count": null,
   "id": "b61c6939",
   "metadata": {},
   "outputs": [],
   "source": []
  },
  {
   "cell_type": "code",
   "execution_count": null,
   "id": "584211c8",
   "metadata": {},
   "outputs": [],
   "source": []
  },
  {
   "cell_type": "code",
   "execution_count": null,
   "id": "32e8c3ed",
   "metadata": {},
   "outputs": [],
   "source": []
  },
  {
   "cell_type": "code",
   "execution_count": null,
   "id": "6207f643",
   "metadata": {},
   "outputs": [],
   "source": []
  },
  {
   "cell_type": "code",
   "execution_count": null,
   "id": "6e44458b",
   "metadata": {},
   "outputs": [],
   "source": []
  }
 ],
 "metadata": {
  "kernelspec": {
   "display_name": "Python 3 (ipykernel)",
   "language": "python",
   "name": "python3"
  },
  "language_info": {
   "codemirror_mode": {
    "name": "ipython",
    "version": 3
   },
   "file_extension": ".py",
   "mimetype": "text/x-python",
   "name": "python",
   "nbconvert_exporter": "python",
   "pygments_lexer": "ipython3",
   "version": "3.9.12"
  }
 },
 "nbformat": 4,
 "nbformat_minor": 5
}
